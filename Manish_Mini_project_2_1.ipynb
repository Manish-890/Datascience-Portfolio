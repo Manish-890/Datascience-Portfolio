{
 "cells": [
  {
   "cell_type": "markdown",
   "id": "5ec98c38",
   "metadata": {},
   "source": [
    "# MINI PROJECT-2- SENTIMENT ANALYSIS"
   ]
  },
  {
   "cell_type": "markdown",
   "id": "48ad27ec",
   "metadata": {},
   "source": [
    "**INTRODUCTION:**\n",
    "\n",
    "**Business owners always want to know how their customres react to their quality of the services provided in order to optimise their business. The users  may post their reviews and ratings of the venues based on their experience and express their insight on others reviews. Finding the user experience based on the serive provided is very important for the business owners. The main goal of the project is to train a model that can automatically predict the customer sentiment i.e. positive and negative reviews in the hospitality of the venues in order to derive the perception of the users for the specific venues.**"
   ]
  },
  {
   "cell_type": "markdown",
   "id": "6eb76f62",
   "metadata": {},
   "source": [
    "# Dataset Overview:\n",
    "**Number of entries: 6,500\n",
    "No missing values in the dataset\n",
    "Features: id, business_id, date, review_id, text, type, user_id, cool, useful, funny, class\n",
    "Target variable: class (0 for negative, 1 for positive sentiment)**"
   ]
  },
  {
   "cell_type": "code",
   "execution_count": 27,
   "id": "6e5060fa",
   "metadata": {},
   "outputs": [],
   "source": [
    "import numpy as np\n",
    "import pandas as pd\n",
    "import matplotlib.pyplot as plt\n",
    "import seaborn as sns\n",
    "\n",
    "# datasets and model prep\n",
    "from sklearn import datasets # to import sklearn datasets\n",
    "from sklearn.pipeline import Pipeline\n",
    "from sklearn.preprocessing import StandardScaler\n",
    "from sklearn.feature_selection import SelectKBest # use a simple option for now\n",
    "from sklearn.model_selection import train_test_split, RepeatedKFold, GridSearchCV\n",
    "from sklearn.naive_bayes import GaussianNB\n",
    "# models\n",
    "from sklearn.linear_model import LinearRegression, LogisticRegression # model\n",
    "from sklearn.svm import SVC\n",
    "\n",
    "# model evaluation\n",
    "from sklearn.inspection import DecisionBoundaryDisplay # to plot the decision boundary\n",
    "from sklearn.metrics import accuracy_score, roc_curve, RocCurveDisplay, roc_curve, get_scorer_names,\\\n",
    "                            classification_report, confusion_matrix ,ConfusionMatrixDisplay, auc # review model metrics\n",
    "\n",
    "from sklearn.metrics import precision_score, accuracy_score\n",
    "seed = 1234\n"
   ]
  },
  {
   "cell_type": "code",
   "execution_count": 28,
   "id": "4b1775bf",
   "metadata": {
    "scrolled": true
   },
   "outputs": [
    {
     "name": "stderr",
     "output_type": "stream",
     "text": [
      "[nltk_data] Downloading package stopwords to\n",
      "[nltk_data]     C:\\Users\\Manish\\AppData\\Roaming\\nltk_data...\n",
      "[nltk_data]   Package stopwords is already up-to-date!\n",
      "[nltk_data] Downloading package punkt to\n",
      "[nltk_data]     C:\\Users\\Manish\\AppData\\Roaming\\nltk_data...\n",
      "[nltk_data]   Package punkt is already up-to-date!\n"
     ]
    }
   ],
   "source": [
    "import re as rgx\n",
    "import string\n",
    "\n",
    "from sklearn.pipeline import Pipeline\n",
    "from sklearn.feature_extraction.text import CountVectorizer\n",
    "\n",
    "from sklearn.naive_bayes import MultinomialNB, ComplementNB\n",
    "\n",
    "# Natural Language Tool Kit (NLTK) is a package with helpful functions for processing text\n",
    "# it tends to be used by academics but is easy to implement. Other options are Gensim and SpaCy\n",
    "import nltk\n",
    "nltk.download('stopwords')\n",
    "nltk.download('punkt')\n",
    "\n",
    "from nltk.corpus import stopwords\n",
    "from nltk.stem import SnowballStemmer\n",
    "from nltk.tokenize import word_tokenize \n",
    "from nltk.corpus import wordnet"
   ]
  },
  {
   "cell_type": "code",
   "execution_count": 29,
   "id": "5ae92320",
   "metadata": {
    "scrolled": true
   },
   "outputs": [
    {
     "data": {
      "text/html": [
       "<div>\n",
       "<style scoped>\n",
       "    .dataframe tbody tr th:only-of-type {\n",
       "        vertical-align: middle;\n",
       "    }\n",
       "\n",
       "    .dataframe tbody tr th {\n",
       "        vertical-align: top;\n",
       "    }\n",
       "\n",
       "    .dataframe thead th {\n",
       "        text-align: right;\n",
       "    }\n",
       "</style>\n",
       "<table border=\"1\" class=\"dataframe\">\n",
       "  <thead>\n",
       "    <tr style=\"text-align: right;\">\n",
       "      <th></th>\n",
       "      <th>id</th>\n",
       "      <th>business_id</th>\n",
       "      <th>date</th>\n",
       "      <th>review_id</th>\n",
       "      <th>text</th>\n",
       "      <th>type</th>\n",
       "      <th>user_id</th>\n",
       "      <th>cool</th>\n",
       "      <th>useful</th>\n",
       "      <th>funny</th>\n",
       "      <th>class</th>\n",
       "    </tr>\n",
       "  </thead>\n",
       "  <tbody>\n",
       "    <tr>\n",
       "      <th>0</th>\n",
       "      <td>2847</td>\n",
       "      <td>PmPOuRvuN3CoNOi1nBj_TQ</td>\n",
       "      <td>2011-09-29</td>\n",
       "      <td>oWLh_cqC97TUvRq_JjRUzw</td>\n",
       "      <td>In town for business, and came to Pappadeaux's...</td>\n",
       "      <td>review</td>\n",
       "      <td>sgb91Hc4rVeLqehNy7Pvnw</td>\n",
       "      <td>0</td>\n",
       "      <td>1</td>\n",
       "      <td>0</td>\n",
       "      <td>1</td>\n",
       "    </tr>\n",
       "    <tr>\n",
       "      <th>1</th>\n",
       "      <td>3602</td>\n",
       "      <td>m9Wqqma30o-hH2fAX7dnug</td>\n",
       "      <td>2012-01-28</td>\n",
       "      <td>6f9pb2-bUdxlsQqJs8-cSQ</td>\n",
       "      <td>I'm on the constant hunt for good Chinese food...</td>\n",
       "      <td>review</td>\n",
       "      <td>PNS9z4aFDbfhpIsHCfNvNg</td>\n",
       "      <td>0</td>\n",
       "      <td>2</td>\n",
       "      <td>0</td>\n",
       "      <td>1</td>\n",
       "    </tr>\n",
       "    <tr>\n",
       "      <th>2</th>\n",
       "      <td>6531</td>\n",
       "      <td>TDX5Peai64ZdDvU5xHV5cQ</td>\n",
       "      <td>2011-06-06</td>\n",
       "      <td>n-suBhJOCH3mL53DvyrLPA</td>\n",
       "      <td>Jake's been taking care of our cars for almost...</td>\n",
       "      <td>review</td>\n",
       "      <td>NPoOEAPspruMOik-9sKQtQ</td>\n",
       "      <td>0</td>\n",
       "      <td>0</td>\n",
       "      <td>0</td>\n",
       "      <td>1</td>\n",
       "    </tr>\n",
       "    <tr>\n",
       "      <th>3</th>\n",
       "      <td>1301</td>\n",
       "      <td>EmlgWjs1ZzZEpDjZCSPLmw</td>\n",
       "      <td>2012-11-02</td>\n",
       "      <td>YDGhV4Lakr4TDElnwvfy2w</td>\n",
       "      <td>I am in love with the cinema suite! Being able...</td>\n",
       "      <td>review</td>\n",
       "      <td>P7Zcg73x8FzszGEiC9YPfw</td>\n",
       "      <td>0</td>\n",
       "      <td>0</td>\n",
       "      <td>0</td>\n",
       "      <td>1</td>\n",
       "    </tr>\n",
       "    <tr>\n",
       "      <th>4</th>\n",
       "      <td>3906</td>\n",
       "      <td>xczdDnDIUoVZ2ILT9nEvPA</td>\n",
       "      <td>2011-12-20</td>\n",
       "      <td>N2sauZfbLwxnbUviLo43Jw</td>\n",
       "      <td>3 kids and myself.. 14 bucks.. gotta love a Tu...</td>\n",
       "      <td>review</td>\n",
       "      <td>C6IOtaaYdLIT5fWd7ZYIuA</td>\n",
       "      <td>3</td>\n",
       "      <td>3</td>\n",
       "      <td>2</td>\n",
       "      <td>1</td>\n",
       "    </tr>\n",
       "  </tbody>\n",
       "</table>\n",
       "</div>"
      ],
      "text/plain": [
       "     id             business_id        date               review_id  \\\n",
       "0  2847  PmPOuRvuN3CoNOi1nBj_TQ  2011-09-29  oWLh_cqC97TUvRq_JjRUzw   \n",
       "1  3602  m9Wqqma30o-hH2fAX7dnug  2012-01-28  6f9pb2-bUdxlsQqJs8-cSQ   \n",
       "2  6531  TDX5Peai64ZdDvU5xHV5cQ  2011-06-06  n-suBhJOCH3mL53DvyrLPA   \n",
       "3  1301  EmlgWjs1ZzZEpDjZCSPLmw  2012-11-02  YDGhV4Lakr4TDElnwvfy2w   \n",
       "4  3906  xczdDnDIUoVZ2ILT9nEvPA  2011-12-20  N2sauZfbLwxnbUviLo43Jw   \n",
       "\n",
       "                                                text    type  \\\n",
       "0  In town for business, and came to Pappadeaux's...  review   \n",
       "1  I'm on the constant hunt for good Chinese food...  review   \n",
       "2  Jake's been taking care of our cars for almost...  review   \n",
       "3  I am in love with the cinema suite! Being able...  review   \n",
       "4  3 kids and myself.. 14 bucks.. gotta love a Tu...  review   \n",
       "\n",
       "                  user_id  cool  useful  funny  class  \n",
       "0  sgb91Hc4rVeLqehNy7Pvnw     0       1      0      1  \n",
       "1  PNS9z4aFDbfhpIsHCfNvNg     0       2      0      1  \n",
       "2  NPoOEAPspruMOik-9sKQtQ     0       0      0      1  \n",
       "3  P7Zcg73x8FzszGEiC9YPfw     0       0      0      1  \n",
       "4  C6IOtaaYdLIT5fWd7ZYIuA     3       3      2      1  "
      ]
     },
     "execution_count": 29,
     "metadata": {},
     "output_type": "execute_result"
    }
   ],
   "source": [
    "df = pd.read_csv('train.csv')\n",
    "df.head()"
   ]
  },
  {
   "cell_type": "code",
   "execution_count": 30,
   "id": "734ab585",
   "metadata": {},
   "outputs": [
    {
     "data": {
      "text/plain": [
       "(6500, 11)"
      ]
     },
     "execution_count": 30,
     "metadata": {},
     "output_type": "execute_result"
    }
   ],
   "source": [
    "df.shape"
   ]
  },
  {
   "cell_type": "code",
   "execution_count": 31,
   "id": "97198986",
   "metadata": {
    "scrolled": true
   },
   "outputs": [
    {
     "name": "stdout",
     "output_type": "stream",
     "text": [
      "<class 'pandas.core.frame.DataFrame'>\n",
      "RangeIndex: 6500 entries, 0 to 6499\n",
      "Data columns (total 11 columns):\n",
      " #   Column       Non-Null Count  Dtype \n",
      "---  ------       --------------  ----- \n",
      " 0   id           6500 non-null   int64 \n",
      " 1   business_id  6500 non-null   object\n",
      " 2   date         6500 non-null   object\n",
      " 3   review_id    6500 non-null   object\n",
      " 4   text         6500 non-null   object\n",
      " 5   type         6500 non-null   object\n",
      " 6   user_id      6500 non-null   object\n",
      " 7   cool         6500 non-null   int64 \n",
      " 8   useful       6500 non-null   int64 \n",
      " 9   funny        6500 non-null   int64 \n",
      " 10  class        6500 non-null   int64 \n",
      "dtypes: int64(5), object(6)\n",
      "memory usage: 558.7+ KB\n"
     ]
    }
   ],
   "source": [
    "df.info()# no NULL values in dataset"
   ]
  },
  {
   "cell_type": "code",
   "execution_count": 32,
   "id": "065b436b",
   "metadata": {
    "scrolled": true
   },
   "outputs": [
    {
     "data": {
      "text/plain": [
       "id              int64\n",
       "business_id    object\n",
       "date           object\n",
       "review_id      object\n",
       "text           object\n",
       "type           object\n",
       "user_id        object\n",
       "cool            int64\n",
       "useful          int64\n",
       "funny           int64\n",
       "class           int64\n",
       "dtype: object"
      ]
     },
     "execution_count": 32,
     "metadata": {},
     "output_type": "execute_result"
    }
   ],
   "source": [
    "df.dtypes"
   ]
  },
  {
   "cell_type": "code",
   "execution_count": 33,
   "id": "af6b2552",
   "metadata": {},
   "outputs": [
    {
     "data": {
      "text/html": [
       "<div>\n",
       "<style scoped>\n",
       "    .dataframe tbody tr th:only-of-type {\n",
       "        vertical-align: middle;\n",
       "    }\n",
       "\n",
       "    .dataframe tbody tr th {\n",
       "        vertical-align: top;\n",
       "    }\n",
       "\n",
       "    .dataframe thead th {\n",
       "        text-align: right;\n",
       "    }\n",
       "</style>\n",
       "<table border=\"1\" class=\"dataframe\">\n",
       "  <thead>\n",
       "    <tr style=\"text-align: right;\">\n",
       "      <th></th>\n",
       "      <th>id</th>\n",
       "      <th>cool</th>\n",
       "      <th>useful</th>\n",
       "      <th>funny</th>\n",
       "      <th>class</th>\n",
       "    </tr>\n",
       "  </thead>\n",
       "  <tbody>\n",
       "    <tr>\n",
       "      <th>count</th>\n",
       "      <td>6500.000000</td>\n",
       "      <td>6500.000000</td>\n",
       "      <td>6500.000000</td>\n",
       "      <td>6500.000000</td>\n",
       "      <td>6500.000000</td>\n",
       "    </tr>\n",
       "    <tr>\n",
       "      <th>mean</th>\n",
       "      <td>5015.677692</td>\n",
       "      <td>0.886923</td>\n",
       "      <td>1.412615</td>\n",
       "      <td>0.706923</td>\n",
       "      <td>0.686308</td>\n",
       "    </tr>\n",
       "    <tr>\n",
       "      <th>std</th>\n",
       "      <td>2884.482403</td>\n",
       "      <td>2.151512</td>\n",
       "      <td>2.409634</td>\n",
       "      <td>1.892018</td>\n",
       "      <td>0.464029</td>\n",
       "    </tr>\n",
       "    <tr>\n",
       "      <th>min</th>\n",
       "      <td>0.000000</td>\n",
       "      <td>0.000000</td>\n",
       "      <td>0.000000</td>\n",
       "      <td>0.000000</td>\n",
       "      <td>0.000000</td>\n",
       "    </tr>\n",
       "    <tr>\n",
       "      <th>25%</th>\n",
       "      <td>2519.750000</td>\n",
       "      <td>0.000000</td>\n",
       "      <td>0.000000</td>\n",
       "      <td>0.000000</td>\n",
       "      <td>0.000000</td>\n",
       "    </tr>\n",
       "    <tr>\n",
       "      <th>50%</th>\n",
       "      <td>5013.500000</td>\n",
       "      <td>0.000000</td>\n",
       "      <td>1.000000</td>\n",
       "      <td>0.000000</td>\n",
       "      <td>1.000000</td>\n",
       "    </tr>\n",
       "    <tr>\n",
       "      <th>75%</th>\n",
       "      <td>7529.250000</td>\n",
       "      <td>1.000000</td>\n",
       "      <td>2.000000</td>\n",
       "      <td>1.000000</td>\n",
       "      <td>1.000000</td>\n",
       "    </tr>\n",
       "    <tr>\n",
       "      <th>max</th>\n",
       "      <td>9998.000000</td>\n",
       "      <td>77.000000</td>\n",
       "      <td>76.000000</td>\n",
       "      <td>39.000000</td>\n",
       "      <td>1.000000</td>\n",
       "    </tr>\n",
       "  </tbody>\n",
       "</table>\n",
       "</div>"
      ],
      "text/plain": [
       "                id         cool       useful        funny        class\n",
       "count  6500.000000  6500.000000  6500.000000  6500.000000  6500.000000\n",
       "mean   5015.677692     0.886923     1.412615     0.706923     0.686308\n",
       "std    2884.482403     2.151512     2.409634     1.892018     0.464029\n",
       "min       0.000000     0.000000     0.000000     0.000000     0.000000\n",
       "25%    2519.750000     0.000000     0.000000     0.000000     0.000000\n",
       "50%    5013.500000     0.000000     1.000000     0.000000     1.000000\n",
       "75%    7529.250000     1.000000     2.000000     1.000000     1.000000\n",
       "max    9998.000000    77.000000    76.000000    39.000000     1.000000"
      ]
     },
     "execution_count": 33,
     "metadata": {},
     "output_type": "execute_result"
    }
   ],
   "source": [
    "df.describe()"
   ]
  },
  {
   "cell_type": "code",
   "execution_count": 34,
   "id": "5360d071",
   "metadata": {},
   "outputs": [],
   "source": [
    "# split the data. Use the same seed\n",
    "\n",
    "X = df['text'] # feature\n",
    "y = df['class'] # target\n",
    "\n",
    "X_train, X_test, y_train, y_test = train_test_split(X,y,test_size=.2,stratify=y,random_state=seed)"
   ]
  },
  {
   "cell_type": "markdown",
   "id": "aa820dae",
   "metadata": {},
   "source": [
    "# Modelling"
   ]
  },
  {
   "cell_type": "markdown",
   "id": "60ae0d73",
   "metadata": {},
   "source": [
    "**The model used Multinomial Naive Bayes classifier the main reason to select the model for its efficiency with text classificaton, performs well with sparse data also maintains good balance accuracy and efficiency and focuses on positive predictive power which is crucial for testinomials.**"
   ]
  },
  {
   "cell_type": "code",
   "execution_count": 35,
   "id": "cff80689",
   "metadata": {},
   "outputs": [
    {
     "name": "stdout",
     "output_type": "stream",
     "text": [
      "Accuracy of a multinomial naive bayes classifier: 80.69%\n",
      "Precision of a Multinomial Naive Bayes classifier: 82.60%\n"
     ]
    }
   ],
   "source": [
    "vectorizer = CountVectorizer()#CountVectorizer used for feature extraction and vectorization of text data\n",
    "X_train_vec = vectorizer.fit_transform(X_train)\n",
    "X_test_vec = vectorizer.transform(X_test)\n",
    "mnb = MultinomialNB()\n",
    "mnb.fit(X_train_vec,y_train)\n",
    "y_pred = mnb.predict(X_test_vec)\n",
    "print(\"Accuracy of a multinomial naive bayes classifier: {:2.2%}\".format(mnb.score(X_test_vec, y_test)))\n",
    "print(\"Precision of a Multinomial Naive Bayes classifier: {:.2%}\".format(precision_score(y_test, y_pred)))"
   ]
  },
  {
   "cell_type": "markdown",
   "id": "ed6eb1d7",
   "metadata": {},
   "source": [
    "# Hyperparameter Tuning:"
   ]
  },
  {
   "cell_type": "code",
   "execution_count": 22,
   "id": "396d8d79",
   "metadata": {},
   "outputs": [
    {
     "name": "stdout",
     "output_type": "stream",
     "text": [
      "Best Score: 82.13%\n",
      "Best Parameters:  {'alpha': 1.0, 'class_prior': None, 'fit_prior': False}\n"
     ]
    }
   ],
   "source": [
    "# Define the parameter grid\n",
    "param_grid = {\n",
    "    'alpha': [0.01, 0.1, 1.0],  #  It controls the amount of smoothing applied to the feature probabilities. Smoothing is necessary to handle unseen features in the test data. \n",
    "    'fit_prior': [True, False],  # try different options for fit_prior\n",
    "    'class_prior': [None, [0.3, 0.7], [0.7, 0.3]]  # try different class_prior values\n",
    "}\n",
    "\n",
    "# Create the grid search object\n",
    "grid_search = GridSearchCV(estimator=mnb, param_grid=param_grid, cv=5, scoring='accuracy')\n",
    "\n",
    "# Fit the grid search to the training data\n",
    "grid_search.fit(X_train_vec, y_train)\n",
    "\n",
    "# Print the best score and best parameters\n",
    "print(\"Best Score: {:.2%}\".format(grid_search.best_score_))\n",
    "print(\"Best Parameters: \", grid_search.best_params_)"
   ]
  },
  {
   "cell_type": "markdown",
   "id": "4b8a936f",
   "metadata": {},
   "source": [
    "**By systematically testing different parameter values, we aimed to optimize the model's performance in terms of accuracy, precision, or other evaluation metrics. This approach allowed us to fine-tune the model and select the parameter combination that yielded the highest precision score on our dataset.**"
   ]
  },
  {
   "cell_type": "code",
   "execution_count": 15,
   "id": "64368429",
   "metadata": {
    "scrolled": false
   },
   "outputs": [
    {
     "data": {
      "image/png": "[encoded data removed]",
      "text/plain": [
       "<Figure size 640x480 with 2 Axes>"
      ]
     },
     "metadata": {},
     "output_type": "display_data"
    }
   ],
   "source": [
    "# Get the predictions on the test set using the best estimator from grid search\n",
    "y_pred = grid_search.best_estimator_.predict(X_test_vec)\n",
    "\n",
    "# Create the confusion matrix\n",
    "cm = confusion_matrix(y_test, y_pred)\n",
    "\n",
    "# Create a confusion matrix display\n",
    "cm_display = ConfusionMatrixDisplay(cm)\n",
    "\n",
    "# Plot the confusion matrix\n",
    "cm_display.plot(cmap='Blues')\n",
    "\n",
    "# Add title and axis labels\n",
    "plt.title('Confusion Matrix')\n",
    "plt.xlabel('Predicted Label')\n",
    "plt.ylabel('True Label')\n",
    "\n",
    "# Show the plot\n",
    "plt.show()"
   ]
  },
  {
   "cell_type": "markdown",
   "id": "da66324c",
   "metadata": {},
   "source": [
    "# Random Oversampling applied to balance the class distribution\n",
    "**BaggingClassifier with MNB as the base estimator used for improved performance\n",
    "Precision score improved to 82.26%**"
   ]
  },
  {
   "cell_type": "code",
   "execution_count": 38,
   "id": "051a91c9",
   "metadata": {},
   "outputs": [
    {
     "data": {
      "text/html": [
       "<style>#sk-container-id-2 {color: black;background-color: white;}#sk-container-id-2 pre{padding: 0;}#sk-container-id-2 div.sk-toggleable {background-color: white;}#sk-container-id-2 label.sk-toggleable__label {cursor: pointer;display: block;width: 100%;margin-bottom: 0;padding: 0.3em;box-sizing: border-box;text-align: center;}#sk-container-id-2 label.sk-toggleable__label-arrow:before {content: \"▸\";float: left;margin-right: 0.25em;color: #696969;}#sk-container-id-2 label.sk-toggleable__label-arrow:hover:before {color: black;}#sk-container-id-2 div.sk-estimator:hover label.sk-toggleable__label-arrow:before {color: black;}#sk-container-id-2 div.sk-toggleable__content {max-height: 0;max-width: 0;overflow: hidden;text-align: left;background-color: #f0f8ff;}#sk-container-id-2 div.sk-toggleable__content pre {margin: 0.2em;color: black;border-radius: 0.25em;background-color: #f0f8ff;}#sk-container-id-2 input.sk-toggleable__control:checked~div.sk-toggleable__content {max-height: 200px;max-width: 100%;overflow: auto;}#sk-container-id-2 input.sk-toggleable__control:checked~label.sk-toggleable__label-arrow:before {content: \"▾\";}#sk-container-id-2 div.sk-estimator input.sk-toggleable__control:checked~label.sk-toggleable__label {background-color: #d4ebff;}#sk-container-id-2 div.sk-label input.sk-toggleable__control:checked~label.sk-toggleable__label {background-color: #d4ebff;}#sk-container-id-2 input.sk-hidden--visually {border: 0;clip: rect(1px 1px 1px 1px);clip: rect(1px, 1px, 1px, 1px);height: 1px;margin: -1px;overflow: hidden;padding: 0;position: absolute;width: 1px;}#sk-container-id-2 div.sk-estimator {font-family: monospace;background-color: #f0f8ff;border: 1px dotted black;border-radius: 0.25em;box-sizing: border-box;margin-bottom: 0.5em;}#sk-container-id-2 div.sk-estimator:hover {background-color: #d4ebff;}#sk-container-id-2 div.sk-parallel-item::after {content: \"\";width: 100%;border-bottom: 1px solid gray;flex-grow: 1;}#sk-container-id-2 div.sk-label:hover label.sk-toggleable__label {background-color: #d4ebff;}#sk-container-id-2 div.sk-serial::before {content: \"\";position: absolute;border-left: 1px solid gray;box-sizing: border-box;top: 0;bottom: 0;left: 50%;z-index: 0;}#sk-container-id-2 div.sk-serial {display: flex;flex-direction: column;align-items: center;background-color: white;padding-right: 0.2em;padding-left: 0.2em;position: relative;}#sk-container-id-2 div.sk-item {position: relative;z-index: 1;}#sk-container-id-2 div.sk-parallel {display: flex;align-items: stretch;justify-content: center;background-color: white;position: relative;}#sk-container-id-2 div.sk-item::before, #sk-container-id-2 div.sk-parallel-item::before {content: \"\";position: absolute;border-left: 1px solid gray;box-sizing: border-box;top: 0;bottom: 0;left: 50%;z-index: -1;}#sk-container-id-2 div.sk-parallel-item {display: flex;flex-direction: column;z-index: 1;position: relative;background-color: white;}#sk-container-id-2 div.sk-parallel-item:first-child::after {align-self: flex-end;width: 50%;}#sk-container-id-2 div.sk-parallel-item:last-child::after {align-self: flex-start;width: 50%;}#sk-container-id-2 div.sk-parallel-item:only-child::after {width: 0;}#sk-container-id-2 div.sk-dashed-wrapped {border: 1px dashed gray;margin: 0 0.4em 0.5em 0.4em;box-sizing: border-box;padding-bottom: 0.4em;background-color: white;}#sk-container-id-2 div.sk-label label {font-family: monospace;font-weight: bold;display: inline-block;line-height: 1.2em;}#sk-container-id-2 div.sk-label-container {text-align: center;}#sk-container-id-2 div.sk-container {/* jupyter's `normalize.less` sets `[hidden] { display: none; }` but bootstrap.min.css set `[hidden] { display: none !important; }` so we also need the `!important` here to be able to override the default hidden behavior on the sphinx rendered scikit-learn.org. See: https://github.com/scikit-learn/scikit-learn/issues/21755 */display: inline-block !important;position: relative;}#sk-container-id-2 div.sk-text-repr-fallback {display: none;}</style><div id=\"sk-container-id-2\" class=\"sk-top-container\"><div class=\"sk-text-repr-fallback\"><pre>MultinomialNB()</pre><b>In a Jupyter environment, please rerun this cell to show the HTML representation or trust the notebook. <br />On GitHub, the HTML representation is unable to render, please try loading this page with nbviewer.org.</b></div><div class=\"sk-container\" hidden><div class=\"sk-item\"><div class=\"sk-estimator sk-toggleable\"><input class=\"sk-toggleable__control sk-hidden--visually\" id=\"sk-estimator-id-2\" type=\"checkbox\" checked><label for=\"sk-estimator-id-2\" class=\"sk-toggleable__label sk-toggleable__label-arrow\">MultinomialNB</label><div class=\"sk-toggleable__content\"><pre>MultinomialNB()</pre></div></div></div></div></div>"
      ],
      "text/plain": [
       "MultinomialNB()"
      ]
     },
     "execution_count": 38,
     "metadata": {},
     "output_type": "execute_result"
    }
   ],
   "source": [
    "from imblearn.over_sampling import RandomOverSampler\n",
    "\n",
    "# Apply random oversampling\n",
    "oversampler = RandomOverSampler()\n",
    "X_train_resampled, y_train_resampled = oversampler.fit_resample(X_train_vec, y_train)\n",
    "\n",
    "# Train the model using the resampled data\n",
    "mnb.fit(X_train_resampled, y_train_resampled)"
   ]
  },
  {
   "cell_type": "code",
   "execution_count": 39,
   "id": "a10a6c15",
   "metadata": {},
   "outputs": [],
   "source": [
    "# Get predicted probabilities\n",
    "y_pred_proba = mnb.predict_proba(X_test_vec)\n",
    "\n",
    "# Adjust the threshold (e.g., set it to 0.6)\n",
    "threshold = 0.6\n",
    "y_pred_1 = (y_pred_proba[:, 1] > threshold).astype(int)"
   ]
  },
  {
   "cell_type": "code",
   "execution_count": 42,
   "id": "b8c2b2cd",
   "metadata": {
    "scrolled": true
   },
   "outputs": [
    {
     "name": "stdout",
     "output_type": "stream",
     "text": [
      "Precision Score: 82.26%\n"
     ]
    },
    {
     "name": "stderr",
     "output_type": "stream",
     "text": [
      "C:\\Users\\Manish\\anaconda3\\envs\\class2\\Lib\\site-packages\\sklearn\\ensemble\\_base.py:166: FutureWarning: `base_estimator` was renamed to `estimator` in version 1.2 and will be removed in 1.4.\n",
      "  warnings.warn(\n"
     ]
    }
   ],
   "source": [
    "from sklearn.ensemble import BaggingClassifier\n",
    "\n",
    "# Create a BaggingClassifier with MultinomialNB as the base estimator\n",
    "bagging_mnb = BaggingClassifier(base_estimator=mnb)\n",
    "\n",
    "# Fit the bagging classifier to the training data\n",
    "bagging_mnb.fit(X_train_vec, y_train)\n",
    "\n",
    "# Predict on the test data\n",
    "y_pred_2 = bagging_mnb.predict(X_test_vec)\n",
    "\n",
    "# Calculate the precision score\n",
    "precision = precision_score(y_test, y_pred_2)\n",
    "\n",
    "# Print the precision score\n",
    "print(\"Precision Score: {:.2%}\".format(precision))"
   ]
  },
  {
   "cell_type": "markdown",
   "id": "a6e27bac",
   "metadata": {},
   "source": [
    "# cross-validation results from GridSearchCV"
   ]
  },
  {
   "cell_type": "code",
   "execution_count": 43,
   "id": "8e7246e5",
   "metadata": {
    "scrolled": true
   },
   "outputs": [
    {
     "data": {
      "image/png": "[encoded data removed]",
      "text/plain": [
       "<Figure size 1200x600 with 1 Axes>"
      ]
     },
     "metadata": {},
     "output_type": "display_data"
    }
   ],
   "source": [
    "# Access the cross-validation results from GridSearchCV\n",
    "results = grid_search.cv_results_\n",
    "\n",
    "# Get the mean and standard deviation scores for each parameter combination\n",
    "mean_scores = results['mean_test_score']\n",
    "std_scores = results['std_test_score']\n",
    "params = results['params']\n",
    "\n",
    "# Extract the parameter values for plotting\n",
    "alpha_values = [param['alpha'] for param in params]\n",
    "fit_prior_values = [param['fit_prior'] for param in params]\n",
    "class_prior_values = [param['class_prior'] for param in params]\n",
    "\n",
    "# Create a unique label for each parameter combination\n",
    "labels = [f\"alpha={alpha}, fit_prior={fit_prior}, class_prior={class_prior}\" \n",
    "          for alpha, fit_prior, class_prior in zip(alpha_values, fit_prior_values, class_prior_values)]\n",
    "\n",
    "# Plot the cross-validation results\n",
    "plt.figure(figsize=(12, 6))\n",
    "plt.errorbar(np.arange(len(labels)), mean_scores, yerr=std_scores, fmt='o', capsize=5)\n",
    "plt.xticks(np.arange(len(labels)), labels, rotation=90)\n",
    "plt.xlabel('Parameter Combination')\n",
    "plt.ylabel('Mean Test Score')\n",
    "plt.title('Cross-Validation Results')\n",
    "plt.tight_layout()\n",
    "plt.show()"
   ]
  },
  {
   "cell_type": "markdown",
   "id": "7da70707",
   "metadata": {},
   "source": [
    "**The cross-validation plot helps in understanding how different parameter combinations affect the performance of the model. It allows us to identify the parameter combination that results in the highest mean test score, indicating the best performance. In this project, the best parameter combination can be identified based on the highest point on the plot.**"
   ]
  },
  {
   "cell_type": "markdown",
   "id": "9f6b3e61",
   "metadata": {},
   "source": [
    "# Model Evaluation:\n",
    "**Confusion matrix analysis to assess model performance plot visualized to show true positive, true negative, false positive, and false negative rates.Overall, the model demonstrates good performance in identifying positive sentiments.**"
   ]
  },
  {
   "cell_type": "code",
   "execution_count": 44,
   "id": "c4368e5e",
   "metadata": {},
   "outputs": [
    {
     "data": {
      "image/png": "[encoded data removed]",
      "text/plain": [
       "<Figure size 800x600 with 1 Axes>"
      ]
     },
     "metadata": {},
     "output_type": "display_data"
    }
   ],
   "source": [
    "# Predict on the test data using the final model\n",
    "y_pred_3 = grid_search.predict(X_test_vec)\n",
    "\n",
    "# Generate the confusion matrix\n",
    "cm = confusion_matrix(y_test, y_pred_3)\n",
    "\n",
    "# Create a heatmap to visualize the confusion matrix\n",
    "plt.figure(figsize=(8, 6))\n",
    "sns.heatmap(cm, annot=True, fmt='d', cmap='Blues', cbar=False)\n",
    "plt.xlabel('Predicted Labels')\n",
    "plt.ylabel('True Labels')\n",
    "plt.title('Confusion Matrix')\n",
    "plt.show()"
   ]
  },
  {
   "cell_type": "code",
   "execution_count": 7,
   "id": "46cbdf45",
   "metadata": {},
   "outputs": [],
   "source": [
    "test_data = pd.read_csv('test.csv')"
   ]
  },
  {
   "cell_type": "code",
   "execution_count": 8,
   "id": "a0c82c39",
   "metadata": {},
   "outputs": [],
   "source": [
    "X_test = test_data['text']\n",
    "X_test_vectorized = vectorizer.transform(X_test)\n",
    "predicted = mnb.predict(X_test_vectorized)\n",
    "output_df = pd.DataFrame({'id': test_data['id'], 'class': predicted})\n",
    "# Save the DataFrame to a CSV file\n",
    "#output_df.to_csv('predictions_test.csv', index=False)"
   ]
  },
  {
   "cell_type": "markdown",
   "id": "cf5f06ae",
   "metadata": {},
   "source": [
    "# Conclusion:\n",
    "**The automated sentiment analysis model can provide valuable insights to clients in the hospitality industry\n",
    "Positive reviews can be automatically identified and used as testimonials on client websites\n",
    "The model achieves a positive predictive power of 82.26%, ensuring reliable identification of positive sentiments.**"
   ]
  },
  {
   "cell_type": "code",
   "execution_count": null,
   "id": "0c2189c0",
   "metadata": {},
   "outputs": [],
   "source": []
  }
 ],
 "metadata": {
  "kernelspec": {
   "display_name": "Python 3 (ipykernel)",
   "language": "python",
   "name": "python3"
  },
  "language_info": {
   "codemirror_mode": {
    "name": "ipython",
    "version": 3
   },
   "file_extension": ".py",
   "mimetype": "text/x-python",
   "name": "python",
   "nbconvert_exporter": "python",
   "pygments_lexer": "ipython3",
   "version": "3.11.4"
  }
 },
 "nbformat": 4,
 "nbformat_minor": 5
}
